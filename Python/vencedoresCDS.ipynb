{
 "cells": [
  {
   "cell_type": "code",
   "execution_count": 33,
   "id": "3b5ee76f",
   "metadata": {},
   "outputs": [
    {
     "data": {
      "text/plain": [
       "Adriano Nascimento      2\n",
       "Murilo Augusto          1\n",
       "Joel Almeida            1\n",
       "Priscilla Dastre        1\n",
       "Luan Matheus            1\n",
       "Rafael Rafael Rafael    1\n",
       "Bruno Justa             1\n",
       "Matt Ferreira           1\n",
       "Jamele Jesus            1\n",
       "Name: Unnamed: 3, dtype: int64"
      ]
     },
     "metadata": {},
     "output_type": "display_data"
    }
   ],
   "source": [
    "import pandas as pd\n",
    "import plotly.graph_objects as go\n",
    "\n",
    "tabela = pd.read_excel(r'C:\\Users\\Fabio\\Desktop\\FBO - NOVO\\IDEIAS - DESENHOS\\Desenhos\\Fakemons\\CDS\\Vencedores FC - ban advt.xlsx')\n",
    "\n",
    "display(tabela['Unnamed: 3'].value_counts())\n",
    "\n"
   ]
  },
  {
   "cell_type": "code",
   "execution_count": 34,
   "id": "d9b945cc",
   "metadata": {},
   "outputs": [
    {
     "data": {
      "text/plain": [
       "Adriano Nascimento             6\n",
       "Victor Job                     5\n",
       "Junior Ookami                  4\n",
       "Lukas Ferreira Pires           4\n",
       "Will Fernandes                 3\n",
       "Edyvan Souza                   3\n",
       "Cícero Gomes                   3\n",
       "Ricardo Toniato                3\n",
       "Tiago Teixeira                 2\n",
       "Jin Lopes                      2\n",
       "Joshua Santos                  2\n",
       "Leandro Favaretto              2\n",
       "Mateus Ronchi                  2\n",
       "Erick Johger Diniz             2\n",
       "Matheus Ronchi                 2\n",
       "Konrad Masayuki                2\n",
       "Pedro Leopoldo                 2\n",
       "Dário Junio                    1\n",
       "César Házek                    1\n",
       "Maycon Andre R. Andrade        1\n",
       "Wendell Wendell                1\n",
       "Dman Vball                     1\n",
       "Junior Macedo                  1\n",
       "Diego Rafael de Souza          1\n",
       "Álvaro Júnior                  1\n",
       "Gabriel Henrique Pacheco       1\n",
       "Fabio Vilela                   1\n",
       "Wendell Vital                  1\n",
       "Bruno Alexander                1\n",
       "Weslley Silva                  1\n",
       "Will Kumakura                  1\n",
       "Luciano Acioli                 1\n",
       "Beatriz Frutuoso               1\n",
       "Marcos Gallão                  1\n",
       "Bernardo TLerino               1\n",
       "Alvaro Junior                  1\n",
       "Bruno Rodrigues                1\n",
       "Rivaldo Santos                 1\n",
       "Anizio Neto                    1\n",
       "Wellington Ribeiro             1\n",
       "Michael Farias                 1\n",
       "Adriano Lima                   1\n",
       "Elton Ferreira da Silva        1\n",
       "Matheus Arguelho               1\n",
       "Marcelo Micho                  1\n",
       "Leonardo Batista               1\n",
       "Pedro Gomes                    1\n",
       "Vitor Leocadio                 1\n",
       "Ivan  Neves                    1\n",
       "Oberdan Nogueira               1\n",
       "André Ahsthenne                1\n",
       "João Marcos                    1\n",
       "Jamele Jesus                   1\n",
       "Geverson Souza                 1\n",
       "Luan Matheus                   1\n",
       "João Davi Oliveira Minuzzi     1\n",
       "Rhuan Mattos                   1\n",
       "João Antonio                   1\n",
       "Name: Vencedor, dtype: int64"
      ]
     },
     "metadata": {},
     "output_type": "display_data"
    }
   ],
   "source": [
    "tabela = pd.read_excel(r'C:\\Users\\Fabio\\Desktop\\FBO - NOVO\\IDEIAS - DESENHOS\\Desenhos\\Fakemons\\CDS\\Vencedores FC - ban advt.xlsx',sheet_name='FC - 2017')\n",
    "display(tabela['Vencedor'].value_counts())"
   ]
  },
  {
   "cell_type": "code",
   "execution_count": 35,
   "id": "a5ce1656",
   "metadata": {},
   "outputs": [
    {
     "data": {
      "text/plain": [
       "Adriano Nascimento                9\n",
       "Fabio Meireles                    5\n",
       "Junior Ookami                     5\n",
       "Fellipe Mayan                     5\n",
       "Will Fernandes                    3\n",
       "Michael Farias                    3\n",
       "Scott Pines                       3\n",
       "Thay Lopes                        2\n",
       "Jamele Jesus                      2\n",
       "Gean Vieira                       2\n",
       "Wellington Mesquita               2\n",
       "Erick R Diniz                     2\n",
       "Nathan Silva                      2\n",
       "Pedro Almada                      2\n",
       "Wesley Monteiro                   2\n",
       "Fabrício Delpupo                  2\n",
       "Natan Jordão Ferraz               2\n",
       "Emrsn Mello                       1\n",
       "Valmir Gomes                      1\n",
       "Gabriela Campi                    1\n",
       "Scott Pines/Victor Hugo Leal      1\n",
       "Victor Vinícius R                 1\n",
       "Walisson Luan                     1\n",
       "Matheus Arguelho                  1\n",
       "Walisson Kenedy Siqueira          1\n",
       "Ed Coelho                         1\n",
       "Gabriel Henrique Pacheco          1\n",
       "Jonnathan Ronyere                 1\n",
       "Erick Johger Diniz                1\n",
       "Leonardo Mesquita                 1\n",
       "Carlos Henrique Oliveira Silva    1\n",
       "Lucas Alves                       1\n",
       "Victor Job/Gabriel Claudino       1\n",
       "Gabriel Aguiar                    1\n",
       "Victor Job                        1\n",
       "Raphael Rodrigues                 1\n",
       "Gabriel Uchoa                     1\n",
       "Diego Rafael/Lucas Ferreira       1\n",
       "Rocke Veiga                       1\n",
       "Anderson Brito                    1\n",
       "Tássio Carvalho                   1\n",
       "Helio Espiridião                  1\n",
       "Gabriela Nogueira                 1\n",
       "Gabriel Benício                   1\n",
       "Val Gusmão                        1\n",
       "João Crisótomo                    1\n",
       "Cícero Gomes                      1\n",
       "Luiz Felipe Andreazi              1\n",
       "Eduardo Saraiva                   1\n",
       "Roberto Marques                   1\n",
       "Mateus Ronchi/Alvaro Junior       1\n",
       "Thiago Wilson Sousa               1\n",
       "Luan Cosme                        1\n",
       "Joshua Santos                     1\n",
       "Name: VENCEDOR (ES), dtype: int64"
      ]
     },
     "metadata": {},
     "output_type": "display_data"
    }
   ],
   "source": [
    "tabela = pd.read_excel(r'C:\\Users\\Fabio\\Desktop\\FBO - NOVO\\IDEIAS - DESENHOS\\Desenhos\\Fakemons\\CDS\\Vencedores FC - ban advt.xlsx',sheet_name='FC - 2018')\n",
    "display(tabela['VENCEDOR (ES)'].value_counts())\n"
   ]
  },
  {
   "cell_type": "code",
   "execution_count": 36,
   "id": "aee15434",
   "metadata": {},
   "outputs": [
    {
     "data": {
      "text/plain": [
       "Dannylo Leão Oliveira            8\n",
       "Wellington Mesquita              7\n",
       "Adriano Nascimento               6\n",
       "Israel de Oliveira               5\n",
       "Will Fernandes                   5\n",
       "Cícero Gomes                     3\n",
       "Wesley Monteiro                  3\n",
       "Jamele Jesus                     2\n",
       "Natan Ferraz                     2\n",
       "Gabriel Roberto                  2\n",
       "Michael Farias                   2\n",
       "Nathan Silva                     2\n",
       "Joe Oliveira                     2\n",
       "Davi R. Diniz                    1\n",
       "Bruno Alexander                  1\n",
       "Walisson Luan                    1\n",
       "André Caldeira                   1\n",
       "Vanessa R. Gaeta                 1\n",
       "Pedro Leonardo                   1\n",
       "Fabio Meireles/Walisson Luan     1\n",
       "Letícia Preis                    1\n",
       "Victor Dalbert                   1\n",
       "Iarley Mesquita                  1\n",
       "Maycon André Roberto             1\n",
       "Bruno de Montenegro Trujillo     1\n",
       "Natan Jordão Ferraz              1\n",
       "Tavinho Oliveira                 1\n",
       "André Lelo                       1\n",
       "Daniel Vitor                     1\n",
       "Fellipe Mayan                    1\n",
       "Ricardo Toniato                  1\n",
       "Gean Vieira                      1\n",
       "Snsro Dainamond Dinho            1\n",
       "Matheus Oliveira                 1\n",
       "Marcos Gallão                    1\n",
       "Luan Fabro                       1\n",
       "Vinicius Borian                  1\n",
       "Roy Souza                        1\n",
       "Luan Resende                     1\n",
       "Gabriel Claudino Teixeira        1\n",
       "Gustavo Midea                    1\n",
       "Carlos Eduardo Teixeira Rocha    1\n",
       "Antonio Freitas                  1\n",
       "Renato Augusto                   1\n",
       "Pedro Yagura                     1\n",
       "Anderson J Pedrosa               1\n",
       "Leticia Preis                    1\n",
       "João Victor Araújo               1\n",
       "Tiago Teixeira                   1\n",
       "Everton Santana                  1\n",
       "Leonardo Bruno                   1\n",
       "Vitor Gustavo                    1\n",
       "Vinícius Consolato               1\n",
       "Fábio Meireles                   1\n",
       "Name: VENCEDOR (ES), dtype: int64"
      ]
     },
     "metadata": {},
     "output_type": "display_data"
    }
   ],
   "source": [
    "tabela = pd.read_excel(r'C:\\Users\\Fabio\\Desktop\\FBO - NOVO\\IDEIAS - DESENHOS\\Desenhos\\Fakemons\\CDS\\Vencedores FC - ban advt.xlsx',sheet_name='FC - 2019')\n",
    "display(tabela['VENCEDOR (ES)'].value_counts())"
   ]
  },
  {
   "cell_type": "code",
   "execution_count": 37,
   "id": "27fcfd25",
   "metadata": {},
   "outputs": [
    {
     "data": {
      "text/plain": [
       "Dannylo Leão Oliveira                       7\n",
       "Adriano Nascimento                          7\n",
       "Wellington Mesquita                         5\n",
       "Gabriel Roberto                             5\n",
       "Cícero Gomes                                4\n",
       "Vanessa R. Gaeta                            3\n",
       "Matheus Platner                             3\n",
       "Pedro Almada                                2\n",
       "Isaias Santos                               2\n",
       "Mayra Olegario                              2\n",
       "André Ahsthenne                             2\n",
       "Rennan Carnio                               2\n",
       "Yan Farias Nunes                            2\n",
       "Fernando Alves                              2\n",
       "Adriano L Vieira                            1\n",
       "Enzo Maziero                                1\n",
       "Natan Ferraz                                1\n",
       "Matheus Oliveira                            1\n",
       "Gabriel H. Pacheco                          1\n",
       "Wesley Monteiro                             1\n",
       "Paulo Roberto Costa                         1\n",
       "Nathan Silva                                1\n",
       "Jerson Amorim Filho                         1\n",
       "Israel de Oliveira/Dannylo Leão Oliveira    1\n",
       "Thaís Santos                                1\n",
       "Renan Romera                                1\n",
       "Igor Araújo                                 1\n",
       "Leonnan Costa                               1\n",
       "Fabrício Delpupo                            1\n",
       "Bruno Haulfermet                            1\n",
       "Gustavo Prado/Mayra Olegario                1\n",
       "Everton Santana                             1\n",
       "Gustavo Leal                                1\n",
       "Caio Galdino                                1\n",
       "Antonio Freitas                             1\n",
       "Luciano Antoniasse                          1\n",
       "Renato Augusto                              1\n",
       "Gustavo Prado                               1\n",
       "Lucas Luan                                  1\n",
       "Junior Junior                               1\n",
       "Leonardo Mesquita                           1\n",
       "Michael Farias                              1\n",
       "Renato Augusto/Ismael Ferreiraxk            1\n",
       "Luiz Augusto                                1\n",
       "Davi R. Diniz                               1\n",
       "Letícia Preis                               1\n",
       "Ismael Ferreiraxk                           1\n",
       "Adriano Menezes/Júnior Custódio             1\n",
       "Junior Custódio                             1\n",
       "Tacio B. Souza                              1\n",
       "Leonardo Sens                               1\n",
       "Joel Oliveira                               1\n",
       "Emerson Ferreira                            1\n",
       "Bernardo Tlerina                            1\n",
       "Laerte Peixoto Machado                      1\n",
       "Name: VENCEDOR (ES), dtype: int64"
      ]
     },
     "metadata": {},
     "output_type": "display_data"
    }
   ],
   "source": [
    "tabela = pd.read_excel(r'C:\\Users\\Fabio\\Desktop\\FBO - NOVO\\IDEIAS - DESENHOS\\Desenhos\\Fakemons\\CDS\\Vencedores FC - ban advt.xlsx',sheet_name='FC - 2020')\n",
    "display(tabela['VENCEDOR (ES)'].value_counts())"
   ]
  },
  {
   "cell_type": "code",
   "execution_count": 42,
   "id": "cdacb71d",
   "metadata": {},
   "outputs": [
    {
     "data": {
      "text/plain": [
       "Adriano Menezes                                        5\n",
       "Wellington Mesquita                                    4\n",
       "Oliver Leaf                                            4\n",
       "Aleff Alexandre                                        4\n",
       "Matheus Platner                                        3\n",
       "Michael Farias                                         3\n",
       "Dannylo Leão Oliveira                                  2\n",
       "Israel de Oliveira                                     2\n",
       "Rafael Henrique Del'Boccio                             2\n",
       "Isaias Santos                                          2\n",
       "Gabriel Roberto                                        1\n",
       "Gustavo Leal                                           1\n",
       "Victor Lopes                                           1\n",
       "Leonardo Silva Neri                                    1\n",
       "Renan                                                  1\n",
       "Fernando Alves                                         1\n",
       "Rafael Henrique Del'Boccio/Jacqueline C. Silva Jacq    1\n",
       "Lopes Leo                                              1\n",
       "Diego Tosta Feitosa                                    1\n",
       "Pedro Potengi                                          1\n",
       "Wellington Carvalho                                    1\n",
       "Daniel Lucas                                           1\n",
       "Hydra Trainer                                          1\n",
       "Rafael Souza                                           1\n",
       "Junior Custódio                                        1\n",
       "Rocke Veiga                                            1\n",
       "Yan Farias Nunes/Murilo Rodrigues                      1\n",
       "Wesley Monteiro                                        1\n",
       "Rafael Henrique Del'Bocci                              1\n",
       "Renato Augusto                                         1\n",
       "Nicolas Chinaglia                                      1\n",
       "Lucas Luan                                             1\n",
       "Victor Daibert                                         1\n",
       "Name: VENCEDOR (ES), dtype: int64"
      ]
     },
     "metadata": {},
     "output_type": "display_data"
    },
    {
     "data": {
      "text/plain": [
       "Adriano Menezes                                        9.3%\n",
       "Wellington Mesquita                                    7.4%\n",
       "Oliver Leaf                                            7.4%\n",
       "Aleff Alexandre                                        7.4%\n",
       "Matheus Platner                                        5.6%\n",
       "Michael Farias                                         5.6%\n",
       "Dannylo Leão Oliveira                                  3.7%\n",
       "Israel de Oliveira                                     3.7%\n",
       "Rafael Henrique Del'Boccio                             3.7%\n",
       "Isaias Santos                                          3.7%\n",
       "Gabriel Roberto                                        1.9%\n",
       "Gustavo Leal                                           1.9%\n",
       "Victor Lopes                                           1.9%\n",
       "Leonardo Silva Neri                                    1.9%\n",
       "Renan                                                  1.9%\n",
       "Fernando Alves                                         1.9%\n",
       "Rafael Henrique Del'Boccio/Jacqueline C. Silva Jacq    1.9%\n",
       "Lopes Leo                                              1.9%\n",
       "Diego Tosta Feitosa                                    1.9%\n",
       "Pedro Potengi                                          1.9%\n",
       "Wellington Carvalho                                    1.9%\n",
       "Daniel Lucas                                           1.9%\n",
       "Hydra Trainer                                          1.9%\n",
       "Rafael Souza                                           1.9%\n",
       "Junior Custódio                                        1.9%\n",
       "Rocke Veiga                                            1.9%\n",
       "Yan Farias Nunes/Murilo Rodrigues                      1.9%\n",
       "Wesley Monteiro                                        1.9%\n",
       "Rafael Henrique Del'Bocci                              1.9%\n",
       "Renato Augusto                                         1.9%\n",
       "Nicolas Chinaglia                                      1.9%\n",
       "Lucas Luan                                             1.9%\n",
       "Victor Daibert                                         1.9%\n",
       "Name: VENCEDOR (ES), dtype: object"
      ]
     },
     "metadata": {},
     "output_type": "display_data"
    }
   ],
   "source": [
    "tabela = pd.read_excel(r'C:\\Users\\Fabio\\Desktop\\FBO - NOVO\\IDEIAS - DESENHOS\\Desenhos\\Fakemons\\CDS\\Vencedores FC - ban advt.xlsx',sheet_name='FC - 2021')\n",
    "display(tabela['VENCEDOR (ES)'].value_counts())\n",
    "display(tabela['VENCEDOR (ES)'].value_counts(normalize=True).map('{:.1%}'.format))"
   ]
  },
  {
   "cell_type": "code",
   "execution_count": 41,
   "id": "0cece45d",
   "metadata": {},
   "outputs": [
    {
     "ename": "NameError",
     "evalue": "name 'go' is not defined",
     "output_type": "error",
     "traceback": [
      "\u001b[1;31m---------------------------------------------------------------------------\u001b[0m",
      "\u001b[1;31mNameError\u001b[0m                                 Traceback (most recent call last)",
      "\u001b[1;32m<ipython-input-41-571f1fba9a51>\u001b[0m in \u001b[0;36m<module>\u001b[1;34m\u001b[0m\n\u001b[1;32m----> 1\u001b[1;33m fig = go.Figure(\n\u001b[0m\u001b[0;32m      2\u001b[0m     \u001b[0mdata\u001b[0m\u001b[1;33m=\u001b[0m\u001b[1;33m[\u001b[0m\u001b[0mgo\u001b[0m\u001b[1;33m.\u001b[0m\u001b[0mBar\u001b[0m\u001b[1;33m(\u001b[0m\u001b[0my\u001b[0m\u001b[1;33m=\u001b[0m\u001b[1;33m[\u001b[0m\u001b[1;36m2\u001b[0m\u001b[1;33m,\u001b[0m \u001b[1;36m1\u001b[0m\u001b[1;33m,\u001b[0m \u001b[1;36m3\u001b[0m\u001b[1;33m]\u001b[0m\u001b[1;33m)\u001b[0m\u001b[1;33m]\u001b[0m\u001b[1;33m,\u001b[0m\u001b[1;33m\u001b[0m\u001b[1;33m\u001b[0m\u001b[0m\n\u001b[0;32m      3\u001b[0m     \u001b[0mlayout_title_text\u001b[0m\u001b[1;33m=\u001b[0m\u001b[1;34m\"VENCEDOR (ES)\"\u001b[0m\u001b[1;33m\u001b[0m\u001b[1;33m\u001b[0m\u001b[0m\n\u001b[0;32m      4\u001b[0m )\n\u001b[0;32m      5\u001b[0m \u001b[0mfig\u001b[0m\u001b[1;33m.\u001b[0m\u001b[0mshow\u001b[0m\u001b[1;33m(\u001b[0m\u001b[1;33m)\u001b[0m\u001b[1;33m\u001b[0m\u001b[1;33m\u001b[0m\u001b[0m\n",
      "\u001b[1;31mNameError\u001b[0m: name 'go' is not defined"
     ]
    }
   ],
   "source": []
  },
  {
   "cell_type": "code",
   "execution_count": null,
   "id": "91cbcbc0",
   "metadata": {},
   "outputs": [],
   "source": []
  }
 ],
 "metadata": {
  "kernelspec": {
   "display_name": "Python 3",
   "language": "python",
   "name": "python3"
  },
  "language_info": {
   "codemirror_mode": {
    "name": "ipython",
    "version": 3
   },
   "file_extension": ".py",
   "mimetype": "text/x-python",
   "name": "python",
   "nbconvert_exporter": "python",
   "pygments_lexer": "ipython3",
   "version": "3.8.8"
  }
 },
 "nbformat": 4,
 "nbformat_minor": 5
}
